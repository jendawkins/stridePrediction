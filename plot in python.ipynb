{
 "cells": [
  {
   "cell_type": "code",
   "execution_count": null,
   "metadata": {},
   "outputs": [],
   "source": [
    "import glob\n",
    "import pdb\n",
    "import numpy as np\n",
    "import csv\n",
    "import matplotlib.pyplot as plt\n",
    "%matplotlib inline\n",
    "\n",
    "x = dict()\n",
    "for file_name in glob.glob('*.csv'):\n",
    "    plt.figure()\n",
    "    str2 = str.replace(file_name, '.','_')\n",
    "    str3 = str.split(str2, '_')\n",
    "    x['_'.join(str3[2:4])] = {}\n",
    "    with open(file_name, 'r') as infile:\n",
    "        data = infile.read().splitlines()\n",
    "        data.pop(0)\n",
    "        data.pop(-1)\n",
    "        for i, dataline in enumerate(data):\n",
    "            data[i] = dataline.split(',')[1:]\n",
    "        header = data.pop(0)\n",
    "        data = np.array(data)\n",
    "        for i,h in enumerate(header):\n",
    "            x['_'.join(str3[2:4])][h] = data[:,i]\n",
    "\n",
    "        plt.figure()\n",
    "        plt.scatter(data[:,0], data[:,1])\n",
    "        plt.scatter(data[:,0], data[:,2])\n",
    "        plt.scatter(data[:,0], data[:,3])\n",
    "        plt.title('Acceleration: ' + ', '.join(str3[2:4]))\n",
    "        plt.show()\n",
    "\n",
    "        plt.figure()\n",
    "        plt.scatter(data[:,0], data[:,4])\n",
    "        plt.scatter(data[:,0], data[:,5])\n",
    "        plt.scatter(data[:,0], data[:,6])\n",
    "        plt.title('Gyro: ' + ', '.join(str3[2:4]))\n",
    "        plt.show()"
   ]
  },
  {
   "cell_type": "code",
   "execution_count": null,
   "metadata": {},
   "outputs": [],
   "source": []
  }
 ],
 "metadata": {
  "kernelspec": {
   "display_name": "Python 3",
   "language": "python",
   "name": "python3"
  },
  "language_info": {
   "codemirror_mode": {
    "name": "ipython",
    "version": 3
   },
   "file_extension": ".py",
   "mimetype": "text/x-python",
   "name": "python",
   "nbconvert_exporter": "python",
   "pygments_lexer": "ipython3",
   "version": "3.6.4"
  }
 },
 "nbformat": 4,
 "nbformat_minor": 2
}
